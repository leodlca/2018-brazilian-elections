{
 "cells": [
  {
   "cell_type": "code",
   "execution_count": 182,
   "metadata": {},
   "outputs": [],
   "source": [
    "import numpy as np\n",
    "import pandas as pd\n",
    "import seaborn as sns\n",
    "import matplotlib.pyplot as plt\n",
    "\n",
    "df = pd.read_csv('merged1538945834.868107.csv')"
   ]
  },
  {
   "cell_type": "code",
   "execution_count": 183,
   "metadata": {},
   "outputs": [
    {
     "data": {
      "text/html": [
       "<div>\n",
       "<style scoped>\n",
       "    .dataframe tbody tr th:only-of-type {\n",
       "        vertical-align: middle;\n",
       "    }\n",
       "\n",
       "    .dataframe tbody tr th {\n",
       "        vertical-align: top;\n",
       "    }\n",
       "\n",
       "    .dataframe thead th {\n",
       "        text-align: right;\n",
       "    }\n",
       "</style>\n",
       "<table border=\"1\" class=\"dataframe\">\n",
       "  <thead>\n",
       "    <tr style=\"text-align: right;\">\n",
       "      <th></th>\n",
       "      <th>tweet_id</th>\n",
       "      <th>Unnamed: 0</th>\n",
       "      <th>created_at</th>\n",
       "      <th>handle</th>\n",
       "      <th>mined_at</th>\n",
       "      <th>retweet_count</th>\n",
       "      <th>text</th>\n",
       "    </tr>\n",
       "  </thead>\n",
       "  <tbody>\n",
       "    <tr>\n",
       "      <th>0</th>\n",
       "      <td>1048727214253113349</td>\n",
       "      <td>0</td>\n",
       "      <td>Sun Oct 07 00:10:26 +0000 2018</td>\n",
       "      <td>superwoman⚔</td>\n",
       "      <td>2018-10-06 21:10:50.788029</td>\n",
       "      <td>2218</td>\n",
       "      <td>RT @OJARDELITO: *PESQUISA - VÉSPERA DA ELEIÇÃO...</td>\n",
       "    </tr>\n",
       "    <tr>\n",
       "      <th>1</th>\n",
       "      <td>1048727190899232768</td>\n",
       "      <td>1</td>\n",
       "      <td>Sun Oct 07 00:10:21 +0000 2018</td>\n",
       "      <td>Alan Izaias Garus Prodelik</td>\n",
       "      <td>2018-10-06 21:10:50.788029</td>\n",
       "      <td>0</td>\n",
       "      <td>Com os números recentes do  Ibope e Datafolha,...</td>\n",
       "    </tr>\n",
       "    <tr>\n",
       "      <th>2</th>\n",
       "      <td>1048727190437879808</td>\n",
       "      <td>2</td>\n",
       "      <td>Sun Oct 07 00:10:21 +0000 2018</td>\n",
       "      <td>Rodrigo</td>\n",
       "      <td>2018-10-06 21:10:50.788029</td>\n",
       "      <td>239</td>\n",
       "      <td>RT @congemfoco: Nossa opinião: a dupla Bolsona...</td>\n",
       "    </tr>\n",
       "    <tr>\n",
       "      <th>3</th>\n",
       "      <td>1048727185643720704</td>\n",
       "      <td>3</td>\n",
       "      <td>Sun Oct 07 00:10:20 +0000 2018</td>\n",
       "      <td>Gomes Miguel</td>\n",
       "      <td>2018-10-06 21:10:50.788029</td>\n",
       "      <td>668</td>\n",
       "      <td>RT @TSEjusbr: Quem registrar o voto com máquin...</td>\n",
       "    </tr>\n",
       "    <tr>\n",
       "      <th>4</th>\n",
       "      <td>1048727170594607110</td>\n",
       "      <td>4</td>\n",
       "      <td>Sun Oct 07 00:10:16 +0000 2018</td>\n",
       "      <td>⚜ TelBoni 🌞</td>\n",
       "      <td>2018-10-06 21:10:50.788029</td>\n",
       "      <td>0</td>\n",
       "      <td>Mano. Meu. Paulista come cocô mesmo, PSDB ajud...</td>\n",
       "    </tr>\n",
       "  </tbody>\n",
       "</table>\n",
       "</div>"
      ],
      "text/plain": [
       "              tweet_id  Unnamed: 0                      created_at  \\\n",
       "0  1048727214253113349           0  Sun Oct 07 00:10:26 +0000 2018   \n",
       "1  1048727190899232768           1  Sun Oct 07 00:10:21 +0000 2018   \n",
       "2  1048727190437879808           2  Sun Oct 07 00:10:21 +0000 2018   \n",
       "3  1048727185643720704           3  Sun Oct 07 00:10:20 +0000 2018   \n",
       "4  1048727170594607110           4  Sun Oct 07 00:10:16 +0000 2018   \n",
       "\n",
       "                       handle                    mined_at  retweet_count  \\\n",
       "0                 superwoman⚔  2018-10-06 21:10:50.788029           2218   \n",
       "1  Alan Izaias Garus Prodelik  2018-10-06 21:10:50.788029              0   \n",
       "2                     Rodrigo  2018-10-06 21:10:50.788029            239   \n",
       "3                Gomes Miguel  2018-10-06 21:10:50.788029            668   \n",
       "4                 ⚜ TelBoni 🌞  2018-10-06 21:10:50.788029              0   \n",
       "\n",
       "                                                text  \n",
       "0  RT @OJARDELITO: *PESQUISA - VÉSPERA DA ELEIÇÃO...  \n",
       "1  Com os números recentes do  Ibope e Datafolha,...  \n",
       "2  RT @congemfoco: Nossa opinião: a dupla Bolsona...  \n",
       "3  RT @TSEjusbr: Quem registrar o voto com máquin...  \n",
       "4  Mano. Meu. Paulista come cocô mesmo, PSDB ajud...  "
      ]
     },
     "execution_count": 183,
     "metadata": {},
     "output_type": "execute_result"
    }
   ],
   "source": [
    "df.head()"
   ]
  },
  {
   "cell_type": "code",
   "execution_count": 184,
   "metadata": {},
   "outputs": [
    {
     "data": {
      "text/plain": [
       "(106908, 7)"
      ]
     },
     "execution_count": 184,
     "metadata": {},
     "output_type": "execute_result"
    }
   ],
   "source": [
    "df.shape"
   ]
  },
  {
   "cell_type": "code",
   "execution_count": 186,
   "metadata": {},
   "outputs": [],
   "source": [
    "from datetime import datetime, timezone\n",
    "\n",
    "def twitterdate_to_datetime(twitterdate):\n",
    "    return datetime.strptime(twitterdate, '%a %b %d %X %z %Y').replace(tzinfo=timezone.utc).astimezone(tz=None)\n",
    "    \n",
    "def datetime_to_integer(datetime):\n",
    "    return round(datetime.timestamp())\n",
    "\n",
    "df['created_at'] = df['created_at'].map(twitterdate_to_datetime)\n",
    "df['created_at_int'] = df['created_at'].map(datetime_to_integer)\n",
    "df['created_at_day'] = df['created_at'].map(lambda x: x.day)\n",
    "df['created_at_hour'] = df['created_at'].map(lambda x: x.time().hour + (x.time().minute * x.time().second) / 3600)"
   ]
  },
  {
   "cell_type": "code",
   "execution_count": 187,
   "metadata": {},
   "outputs": [
    {
     "data": {
      "text/html": [
       "<div>\n",
       "<style scoped>\n",
       "    .dataframe tbody tr th:only-of-type {\n",
       "        vertical-align: middle;\n",
       "    }\n",
       "\n",
       "    .dataframe tbody tr th {\n",
       "        vertical-align: top;\n",
       "    }\n",
       "\n",
       "    .dataframe thead th {\n",
       "        text-align: right;\n",
       "    }\n",
       "</style>\n",
       "<table border=\"1\" class=\"dataframe\">\n",
       "  <thead>\n",
       "    <tr style=\"text-align: right;\">\n",
       "      <th></th>\n",
       "      <th>tweet_id</th>\n",
       "      <th>Unnamed: 0</th>\n",
       "      <th>created_at</th>\n",
       "      <th>handle</th>\n",
       "      <th>mined_at</th>\n",
       "      <th>retweet_count</th>\n",
       "      <th>text</th>\n",
       "      <th>created_at_int</th>\n",
       "      <th>created_at_day</th>\n",
       "      <th>created_at_hour</th>\n",
       "    </tr>\n",
       "  </thead>\n",
       "  <tbody>\n",
       "    <tr>\n",
       "      <th>0</th>\n",
       "      <td>1048727214253113349</td>\n",
       "      <td>0</td>\n",
       "      <td>2018-10-06 21:10:26-03:00</td>\n",
       "      <td>superwoman⚔</td>\n",
       "      <td>2018-10-06 21:10:50.788029</td>\n",
       "      <td>2218</td>\n",
       "      <td>RT @OJARDELITO: *PESQUISA - VÉSPERA DA ELEIÇÃO...</td>\n",
       "      <td>1538871026</td>\n",
       "      <td>6</td>\n",
       "      <td>21.072222</td>\n",
       "    </tr>\n",
       "    <tr>\n",
       "      <th>1</th>\n",
       "      <td>1048727190899232768</td>\n",
       "      <td>1</td>\n",
       "      <td>2018-10-06 21:10:21-03:00</td>\n",
       "      <td>Alan Izaias Garus Prodelik</td>\n",
       "      <td>2018-10-06 21:10:50.788029</td>\n",
       "      <td>0</td>\n",
       "      <td>Com os números recentes do  Ibope e Datafolha,...</td>\n",
       "      <td>1538871021</td>\n",
       "      <td>6</td>\n",
       "      <td>21.058333</td>\n",
       "    </tr>\n",
       "    <tr>\n",
       "      <th>2</th>\n",
       "      <td>1048727190437879808</td>\n",
       "      <td>2</td>\n",
       "      <td>2018-10-06 21:10:21-03:00</td>\n",
       "      <td>Rodrigo</td>\n",
       "      <td>2018-10-06 21:10:50.788029</td>\n",
       "      <td>239</td>\n",
       "      <td>RT @congemfoco: Nossa opinião: a dupla Bolsona...</td>\n",
       "      <td>1538871021</td>\n",
       "      <td>6</td>\n",
       "      <td>21.058333</td>\n",
       "    </tr>\n",
       "    <tr>\n",
       "      <th>3</th>\n",
       "      <td>1048727185643720704</td>\n",
       "      <td>3</td>\n",
       "      <td>2018-10-06 21:10:20-03:00</td>\n",
       "      <td>Gomes Miguel</td>\n",
       "      <td>2018-10-06 21:10:50.788029</td>\n",
       "      <td>668</td>\n",
       "      <td>RT @TSEjusbr: Quem registrar o voto com máquin...</td>\n",
       "      <td>1538871020</td>\n",
       "      <td>6</td>\n",
       "      <td>21.055556</td>\n",
       "    </tr>\n",
       "    <tr>\n",
       "      <th>4</th>\n",
       "      <td>1048727170594607110</td>\n",
       "      <td>4</td>\n",
       "      <td>2018-10-06 21:10:16-03:00</td>\n",
       "      <td>⚜ TelBoni 🌞</td>\n",
       "      <td>2018-10-06 21:10:50.788029</td>\n",
       "      <td>0</td>\n",
       "      <td>Mano. Meu. Paulista come cocô mesmo, PSDB ajud...</td>\n",
       "      <td>1538871016</td>\n",
       "      <td>6</td>\n",
       "      <td>21.044444</td>\n",
       "    </tr>\n",
       "  </tbody>\n",
       "</table>\n",
       "</div>"
      ],
      "text/plain": [
       "              tweet_id  Unnamed: 0                created_at  \\\n",
       "0  1048727214253113349           0 2018-10-06 21:10:26-03:00   \n",
       "1  1048727190899232768           1 2018-10-06 21:10:21-03:00   \n",
       "2  1048727190437879808           2 2018-10-06 21:10:21-03:00   \n",
       "3  1048727185643720704           3 2018-10-06 21:10:20-03:00   \n",
       "4  1048727170594607110           4 2018-10-06 21:10:16-03:00   \n",
       "\n",
       "                       handle                    mined_at  retweet_count  \\\n",
       "0                 superwoman⚔  2018-10-06 21:10:50.788029           2218   \n",
       "1  Alan Izaias Garus Prodelik  2018-10-06 21:10:50.788029              0   \n",
       "2                     Rodrigo  2018-10-06 21:10:50.788029            239   \n",
       "3                Gomes Miguel  2018-10-06 21:10:50.788029            668   \n",
       "4                 ⚜ TelBoni 🌞  2018-10-06 21:10:50.788029              0   \n",
       "\n",
       "                                                text  created_at_int  \\\n",
       "0  RT @OJARDELITO: *PESQUISA - VÉSPERA DA ELEIÇÃO...      1538871026   \n",
       "1  Com os números recentes do  Ibope e Datafolha,...      1538871021   \n",
       "2  RT @congemfoco: Nossa opinião: a dupla Bolsona...      1538871021   \n",
       "3  RT @TSEjusbr: Quem registrar o voto com máquin...      1538871020   \n",
       "4  Mano. Meu. Paulista come cocô mesmo, PSDB ajud...      1538871016   \n",
       "\n",
       "   created_at_day  created_at_hour  \n",
       "0               6        21.072222  \n",
       "1               6        21.058333  \n",
       "2               6        21.058333  \n",
       "3               6        21.055556  \n",
       "4               6        21.044444  "
      ]
     },
     "execution_count": 187,
     "metadata": {},
     "output_type": "execute_result"
    }
   ],
   "source": [
    "df.head()"
   ]
  },
  {
   "cell_type": "code",
   "execution_count": 188,
   "metadata": {},
   "outputs": [
    {
     "data": {
      "image/png": "[encoded data removed]",
      "text/plain": [
       "<Figure size 432x288 with 1 Axes>"
      ]
     },
     "metadata": {},
     "output_type": "display_data"
    }
   ],
   "source": [
    "fig = sns.kdeplot(df.loc[df['created_at_day'] == 7, 'created_at_hour'], shade=True)\n",
    "\n",
    "fig.figure.suptitle(\"Frequência dos tweets\", fontsize = 16)\n",
    "\n",
    "plt.xlabel('Horas - 07/10/2018', fontsize=14)\n",
    "\n",
    "plt.ylabel('Tweets', fontsize=14)\n",
    "plt.yticks(fig.get_yticks(), (fig.get_yticks() * df.shape[0]).astype(int))\n",
    "plt.show()"
   ]
  },
  {
   "cell_type": "code",
   "execution_count": 233,
   "metadata": {},
   "outputs": [],
   "source": [
    "def kdeplot_by_keywords(keywords, keywords2):\n",
    "    s_df = df[df['created_at_day'] == 7]\n",
    "    \n",
    "    sub_df = s_df[s_df['text'].str.contains('|'.join(keywords), regex=True, case=False)]\n",
    "    \n",
    "    sub_df_2 = s_df[s_df['text'].str.contains('|'.join(keywords2), regex=True, case=False)]\n",
    "\n",
    "    fig = sns.kdeplot(sub_df['created_at_hour'], shade=True)\n",
    "    fig2 = sns.kdeplot(sub_df_2['created_at_hour'], shade=True)\n",
    "    \n",
    "    fig.figure.suptitle(\"Ocorrências da(s) palvra(s): [{0}] contra [{1}]\".format(', '.join(keywords),\n",
    "                                                                             ', '.join(keywords2)), fontsize = 16)\n",
    "\n",
    "    plt.xlabel('Horas - 07/10/2018', fontsize=14)\n",
    "    \n",
    "    plt.ylabel('Ocorrências', fontsize=14)\n",
    "    #plt.yticks(fig.get_yticks(), (fig.get_yticks() * df[df['created_at_day'] == 7].shape[0]).astype(int))\n",
    "    \n",
    "    leg = fig.axes.get_legend()\n",
    "    new_labels = [', '.join(keywords), ', '.join(keywords2)]\n",
    "    for t, l in zip(leg.texts, new_labels): t.set_text(l)\n",
    "    "
   ]
  },
  {
   "cell_type": "code",
   "execution_count": 234,
   "metadata": {},
   "outputs": [
    {
     "data": {
      "image/png": "[encoded data removed]",
      "text/plain": [
       "<Figure size 432x288 with 1 Axes>"
      ]
     },
     "metadata": {},
     "output_type": "display_data"
    }
   ],
   "source": [
    "kdeplot_by_keywords(['bolsonaro'], ['pt'])"
   ]
  },
  {
   "cell_type": "code",
   "execution_count": null,
   "metadata": {},
   "outputs": [],
   "source": [
    "df[df['created_at_day'] == 7]"
   ]
  }
 ],
 "metadata": {
  "kernelspec": {
   "display_name": "Python 3",
   "language": "python",
   "name": "python3"
  },
  "language_info": {
   "codemirror_mode": {
    "name": "ipython",
    "version": 3
   },
   "file_extension": ".py",
   "mimetype": "text/x-python",
   "name": "python",
   "nbconvert_exporter": "python",
   "pygments_lexer": "ipython3",
   "version": "3.6.5"
  }
 },
 "nbformat": 4,
 "nbformat_minor": 2
}
